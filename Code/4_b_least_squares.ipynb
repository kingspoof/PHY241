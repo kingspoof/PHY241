{
 "cells": [
  {
   "cell_type": "code",
   "execution_count": 55,
   "id": "60ad03c5",
   "metadata": {},
   "outputs": [],
   "source": [
    "# generic libraries\n",
    "import matplotlib.pyplot as plt\n",
    "import numpy as np\n",
    "import pandas as pd\n",
    "from scipy.stats import norm\n",
    "\n",
    "# project specific custom libraries\n",
    "from config import *\n",
    "from simulation import simulate_decay_times, smear_decay_times\n",
    "from analysis import *\n",
    "\n",
    "from joblib import delayed, Parallel"
   ]
  },
  {
   "cell_type": "code",
   "execution_count": 56,
   "id": "fb80b4ab",
   "metadata": {},
   "outputs": [],
   "source": [
    "#set a seed for numpys random number generator\n",
    "np.random.seed(1998)"
   ]
  },
  {
   "cell_type": "code",
   "execution_count": 57,
   "id": "0ffea731",
   "metadata": {},
   "outputs": [],
   "source": [
    "t_bounds = [0, 20000e-9]\n",
    "n = 10000\n",
    "n_sims = 1000\n",
    "\n",
    "MUON_estimate = 2e-6\n",
    "PION_estimate = 1.2e-8\n",
    "initial_guess = [MUON_estimate, PION_estimate]\n",
    "\n",
    "sigmas_mult = np.array([1/100, 1/10, 1])\n",
    "sigmas = sigmas_mult * PION_MEAN_LIFETIME"
   ]
  },
  {
   "cell_type": "code",
   "execution_count": 58,
   "id": "c8d962af",
   "metadata": {},
   "outputs": [],
   "source": [
    "def simulation(n, t_bounds, initial_guess, sigma, bins=150):\n",
    "\n",
    "    simulated_decay_points = simulate_decay_times(n, t_bounds[1])\n",
    "    simulated_decay_points = smear_decay_times(simulated_decay_points, sigma=sigma)\n",
    "    counts, bins = np.histogram(simulated_decay_points[:, 0] , bins=150, density=False)\n",
    "\n",
    "    return binned_least_squares_fit(counts, bins, initial_guess)"
   ]
  },
  {
   "cell_type": "code",
   "execution_count": null,
   "id": "20ce681d",
   "metadata": {},
   "outputs": [
    {
     "name": "stderr",
     "output_type": "stream",
     "text": [
      "/var/folders/wr/nnzrl8p15wd8_8sccj0_s_rc0000gn/T/ipykernel_10257/3665035179.py:45: UserWarning: FigureCanvasAgg is non-interactive, and thus cannot be shown\n",
      "  fig.show()\n"
     ]
    }
   ],
   "source": [
    "for j, sigma in enumerate(sigmas):\n",
    "    simulation_results = Parallel(n_jobs=-1)(delayed(simulation)(n, t_bounds, initial_guess, sigma=sigma) for _ in range(n_sims))\n",
    "\n",
    "    simulation_results = pd.DataFrame(np.array(simulation_results), columns=['MUON_estimate', 'PION_estimate', 'MUON_uncer', 'PION_uncer'])\n",
    "    simulation_results.replace([np.inf, -np.inf], np.nan, inplace=True)\n",
    "    simulation_results.dropna(inplace=True)\n",
    "    simulation_results = simulation_results[simulation_results['MUON_estimate']>0]\n",
    "    simulation_results = simulation_results[simulation_results['PION_estimate']>0]\n",
    "    simulation_results = simulation_results[simulation_results['MUON_estimate']>simulation_results['PION_estimate']]\n",
    "\n",
    "    MUON_mean = simulation_results['MUON_estimate'].mean()\n",
    "    PION_mean = simulation_results['PION_estimate'].mean()\n",
    "    MUON_uncer = np.sqrt(np.mean(np.power(simulation_results['MUON_uncer'],2)))\n",
    "    PION_uncer = np.sqrt(np.mean(np.power(simulation_results['PION_uncer'],2)))\n",
    "    MUON_std = simulation_results['MUON_estimate'].std()\n",
    "    PION_std = simulation_results['PION_estimate'].std()\n",
    "\n",
    "    fig, ax = plt.subplots(ncols=2, nrows=1, figsize=(9,4))\n",
    "    simulation_results.hist(column=['MUON_estimate'], ax=ax[0], bins=50, density=True)\n",
    "    simulation_results.hist(column=['PION_estimate'], ax=ax[1], bins=50, density=True)\n",
    "    for i in ax:\n",
    "        i.set_ylabel('Density')\n",
    "        i.set_xlabel('Lifetimes [s]')\n",
    "        i.set_ylim(i.get_ylim())\n",
    "\n",
    "    ax[0].vlines(MUON_mean, *ax[0].get_ylim(), color='k', label='mean')\n",
    "    ax[1].vlines(PION_mean, *ax[1].get_ylim(), color='k')\n",
    "\n",
    "    ax[0].vlines(MUON_MEAN_LIFETIME, *ax[0].get_ylim(), color='orange', label='real value')\n",
    "    ax[1].vlines(PION_MEAN_LIFETIME, *ax[1].get_ylim(), color='orange')\n",
    "\n",
    "    ax[0].vlines([MUON_mean + MUON_uncer, MUON_mean - MUON_uncer], *ax[0].get_ylim(), color='k', linestyle='--', label='uncertainty')\n",
    "    ax[1].vlines([PION_mean + PION_uncer, PION_mean - PION_uncer], *ax[1].get_ylim(), color='k', linestyle='--')\n",
    "\n",
    "    ax[0].vlines([MUON_mean + MUON_std, MUON_mean - MUON_std], *ax[0].get_ylim(), color='r', linestyle='--', label='std')\n",
    "    ax[1].vlines([PION_mean + PION_std, PION_mean - PION_std], *ax[1].get_ylim(), color='r', linestyle='--')\n",
    "\n",
    "    ax[0].set_title(f'MUON ({MUON_mean:.2e} ± {MUON_uncer:.2e})')\n",
    "    ax[1].set_title(f'PION ({PION_mean:.2e} ± {PION_uncer:.2e})')\n",
    "\n",
    "    fig.suptitle(f'least squares fit (smeared with {sigmas_mult[j]} * MUON_MEAN_LIFETIME)')\n",
    "    ax[0].legend()\n",
    "    plt.tight_layout()\n",
    "    fig.savefig(f'../Documentation/images/4b_hist_{j}_squares.pdf')\n",
    "    fig.show()\n",
    "\n",
    "    MUON_pull = pull(MUON_MEAN_LIFETIME, simulation_results['MUON_estimate'], MUON_uncer)\n",
    "    PION_pull = pull(PION_MEAN_LIFETIME, simulation_results['PION_estimate'], PION_uncer)\n",
    "\n",
    "    fig, ax = plt.subplots(ncols=2, nrows=1, figsize=(9,4))\n",
    "\n",
    "    fig.suptitle(f'least squares fit (smeared with {sigmas_mult[j]} * MUON_MEAN_LIFETIME)')\n",
    "\n",
    "    for i in ax:\n",
    "        # i.set_ylabel('Density')\n",
    "        i.set_xlabel('Pull')\n",
    "        i.grid()\n",
    "\n",
    "    ax[0].set_title('MUON')\n",
    "    ax[1].set_title('PION')\n",
    "\n",
    "    ax[0].hist(MUON_pull, bins=50, density=True)\n",
    "    ax[1].hist(PION_pull, bins=50, density=True)\n",
    "\n",
    "    ts_muon = np.linspace(*ax[0].get_xlim(),100)\n",
    "    ax[0].plot(ts_muon, norm.pdf(ts_muon), label='standard distribution')\n",
    "    ax[0].plot(ts_muon, norm.pdf(ts_muon, np.mean(MUON_pull), np.std(MUON_pull)), label='fitted distribution')\n",
    "\n",
    "    ts_pion = np.linspace(*ax[1].get_xlim(),100)\n",
    "    ax[1].plot(ts_pion, norm.pdf(ts_pion))\n",
    "    ax[1].plot(ts_pion, norm.pdf(ts_pion, np.mean(PION_pull), np.std(PION_pull)))\n",
    "\n",
    "    ax[0].legend()\n",
    "    plt.tight_layout()\n",
    "    fig.savefig(f'../Documentation/images/4b_pull_{j}_squares.pdf')"
   ]
  },
  {
   "cell_type": "code",
   "execution_count": null,
   "id": "4748bc3d",
   "metadata": {},
   "outputs": [],
   "source": []
  }
 ],
 "metadata": {
  "kernelspec": {
   "display_name": ".venv",
   "language": "python",
   "name": "python3"
  },
  "language_info": {
   "codemirror_mode": {
    "name": "ipython",
    "version": 3
   },
   "file_extension": ".py",
   "mimetype": "text/x-python",
   "name": "python",
   "nbconvert_exporter": "python",
   "pygments_lexer": "ipython3",
   "version": "3.10.16"
  }
 },
 "nbformat": 4,
 "nbformat_minor": 5
}
