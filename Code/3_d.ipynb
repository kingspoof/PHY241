{
 "cells": [
  {
   "cell_type": "code",
   "execution_count": 21,
   "id": "9aa83c72",
   "metadata": {},
   "outputs": [],
   "source": [
    "# generic libraries\n",
    "import matplotlib.pyplot as plt\n",
    "import numpy as np\n",
    "import pandas as pd\n",
    "from scipy.stats import norm\n",
    "\n",
    "# project specific custom libraries\n",
    "from config import *\n",
    "from simulation import simulate_decay_times\n",
    "from analysis import *\n",
    "\n",
    "from joblib import delayed, Parallel"
   ]
  },
  {
   "cell_type": "code",
   "execution_count": 2,
   "id": "c4ee6086",
   "metadata": {},
   "outputs": [],
   "source": [
    "#set a seed for numpys random number generator\n",
    "# np.random.seed(42)"
   ]
  },
  {
   "cell_type": "code",
   "execution_count": 3,
   "id": "f9bf539d",
   "metadata": {},
   "outputs": [],
   "source": [
    "t_bounds = [0, 20000e-9]\n",
    "n = 10000\n",
    "n_sims = 1000\n",
    "\n",
    "MUON_estimate = 2e-6\n",
    "PION_estimate = 1.2e-8\n",
    "initial_guess = [MUON_estimate, PION_estimate]"
   ]
  },
  {
   "cell_type": "code",
   "execution_count": 4,
   "id": "69c2e486",
   "metadata": {},
   "outputs": [],
   "source": [
    "def simulation(n, t_bounds, initial_guess, bins=150):\n",
    "\n",
    "    simulated_decay_points = simulate_decay_times(n, t_bounds[1])\n",
    "    counts, bins = np.histogram(simulated_decay_points[:, 0] , bins=150, density=False)\n",
    "\n",
    "    return binned_maximum_likelihood_fit_2(counts, bins, initial_guess)"
   ]
  },
  {
   "cell_type": "code",
   "execution_count": 5,
   "id": "bea92e6f",
   "metadata": {},
   "outputs": [
    {
     "name": "stderr",
     "output_type": "stream",
     "text": [
      "/Users/tillboehringer/Dropbox/Studium/Physik/Semester4/PHY241_Project/PHY241/Code/config.py:14: RuntimeWarning: overflow encountered in exp\n",
      "  second_part = exp(- t / muon_mean_lifetime) - exp(- t / pion_mean_lifetime)\n",
      "/Users/tillboehringer/Dropbox/Studium/Physik/Semester4/PHY241_Project/PHY241/Code/config.py:17: RuntimeWarning: overflow encountered in multiply\n",
      "  return first_part * second_part\n",
      "/Users/tillboehringer/Dropbox/Studium/Physik/Semester4/PHY241_Project/PHY241/Code/analysis.py:163: RuntimeWarning: invalid value encountered in log\n",
      "  nll = - np.sum(counts * np.log(estimated_counts))\n",
      "/Users/tillboehringer/Dropbox/Studium/Physik/Semester4/PHY241_Project/PHY241/Code/analysis.py:163: RuntimeWarning: divide by zero encountered in log\n",
      "  nll = - np.sum(counts * np.log(estimated_counts))\n",
      "/Users/tillboehringer/Dropbox/Studium/Physik/Semester4/PHY241_Project/PHY241/Code/analysis.py:163: RuntimeWarning: invalid value encountered in multiply\n",
      "  nll = - np.sum(counts * np.log(estimated_counts))\n",
      "/Users/tillboehringer/Dropbox/Studium/Physik/Semester4/PHY241_Project/PHY241/Code/config.py:14: RuntimeWarning: overflow encountered in exp\n",
      "  second_part = exp(- t / muon_mean_lifetime) - exp(- t / pion_mean_lifetime)\n",
      "/Users/tillboehringer/Dropbox/Studium/Physik/Semester4/PHY241_Project/PHY241/Code/config.py:17: RuntimeWarning: overflow encountered in multiply\n",
      "  return first_part * second_part\n",
      "/Users/tillboehringer/Dropbox/Studium/Physik/Semester4/PHY241_Project/PHY241/Code/analysis.py:163: RuntimeWarning: invalid value encountered in log\n",
      "  nll = - np.sum(counts * np.log(estimated_counts))\n",
      "/Users/tillboehringer/Dropbox/Studium/Physik/Semester4/PHY241_Project/PHY241/Code/analysis.py:163: RuntimeWarning: invalid value encountered in log\n",
      "  nll = - np.sum(counts * np.log(estimated_counts))\n",
      "/Users/tillboehringer/Dropbox/Studium/Physik/Semester4/PHY241_Project/PHY241/Code/config.py:14: RuntimeWarning: overflow encountered in exp\n",
      "  second_part = exp(- t / muon_mean_lifetime) - exp(- t / pion_mean_lifetime)\n",
      "/Users/tillboehringer/Dropbox/Studium/Physik/Semester4/PHY241_Project/PHY241/Code/config.py:17: RuntimeWarning: overflow encountered in multiply\n",
      "  return first_part * second_part\n",
      "/Users/tillboehringer/Dropbox/Studium/Physik/Semester4/PHY241_Project/PHY241/Code/analysis.py:163: RuntimeWarning: invalid value encountered in log\n",
      "  nll = - np.sum(counts * np.log(estimated_counts))\n",
      "/Users/tillboehringer/Dropbox/Studium/Physik/Semester4/PHY241_Project/PHY241/Code/analysis.py:163: RuntimeWarning: divide by zero encountered in log\n",
      "  nll = - np.sum(counts * np.log(estimated_counts))\n",
      "/Users/tillboehringer/Dropbox/Studium/Physik/Semester4/PHY241_Project/PHY241/Code/analysis.py:163: RuntimeWarning: invalid value encountered in multiply\n",
      "  nll = - np.sum(counts * np.log(estimated_counts))\n",
      "/Users/tillboehringer/Dropbox/Studium/Physik/Semester4/PHY241_Project/PHY241/Code/config.py:14: RuntimeWarning: overflow encountered in exp\n",
      "  second_part = exp(- t / muon_mean_lifetime) - exp(- t / pion_mean_lifetime)\n",
      "/Users/tillboehringer/Dropbox/Studium/Physik/Semester4/PHY241_Project/PHY241/Code/config.py:17: RuntimeWarning: overflow encountered in multiply\n",
      "  return first_part * second_part\n",
      "/Users/tillboehringer/Dropbox/Studium/Physik/Semester4/PHY241_Project/PHY241/Code/analysis.py:163: RuntimeWarning: invalid value encountered in log\n",
      "  nll = - np.sum(counts * np.log(estimated_counts))\n",
      "/Users/tillboehringer/Dropbox/Studium/Physik/Semester4/PHY241_Project/PHY241/Code/analysis.py:163: RuntimeWarning: invalid value encountered in log\n",
      "  nll = - np.sum(counts * np.log(estimated_counts))\n",
      "/Users/tillboehringer/Dropbox/Studium/Physik/Semester4/PHY241_Project/PHY241/Code/config.py:14: RuntimeWarning: overflow encountered in exp\n",
      "  second_part = exp(- t / muon_mean_lifetime) - exp(- t / pion_mean_lifetime)\n",
      "/Users/tillboehringer/Dropbox/Studium/Physik/Semester4/PHY241_Project/PHY241/Code/config.py:17: RuntimeWarning: overflow encountered in multiply\n",
      "  return first_part * second_part\n",
      "/Users/tillboehringer/Dropbox/Studium/Physik/Semester4/PHY241_Project/PHY241/Code/analysis.py:163: RuntimeWarning: invalid value encountered in log\n",
      "  nll = - np.sum(counts * np.log(estimated_counts))\n",
      "/Users/tillboehringer/Dropbox/Studium/Physik/Semester4/PHY241_Project/PHY241/Code/analysis.py:163: RuntimeWarning: divide by zero encountered in log\n",
      "  nll = - np.sum(counts * np.log(estimated_counts))\n",
      "/Users/tillboehringer/Dropbox/Studium/Physik/Semester4/PHY241_Project/PHY241/Code/analysis.py:163: RuntimeWarning: invalid value encountered in multiply\n",
      "  nll = - np.sum(counts * np.log(estimated_counts))\n",
      "/Users/tillboehringer/Dropbox/Studium/Physik/Semester4/PHY241_Project/PHY241/Code/config.py:14: RuntimeWarning: overflow encountered in exp\n",
      "  second_part = exp(- t / muon_mean_lifetime) - exp(- t / pion_mean_lifetime)\n",
      "/Users/tillboehringer/Dropbox/Studium/Physik/Semester4/PHY241_Project/PHY241/Code/config.py:17: RuntimeWarning: overflow encountered in multiply\n",
      "  return first_part * second_part\n",
      "/Users/tillboehringer/Dropbox/Studium/Physik/Semester4/PHY241_Project/PHY241/Code/analysis.py:163: RuntimeWarning: invalid value encountered in log\n",
      "  nll = - np.sum(counts * np.log(estimated_counts))\n",
      "/Users/tillboehringer/Dropbox/Studium/Physik/Semester4/PHY241_Project/PHY241/Code/analysis.py:163: RuntimeWarning: invalid value encountered in log\n",
      "  nll = - np.sum(counts * np.log(estimated_counts))\n"
     ]
    }
   ],
   "source": [
    "# simulation_results = [simulation(n, t_bounds, initial_guess) for _ in range(n_sims)]\n",
    "simulation_results = Parallel(n_jobs=-1)(delayed(simulation)(n, t_bounds, initial_guess) for _ in range(n_sims))"
   ]
  },
  {
   "cell_type": "code",
   "execution_count": 6,
   "id": "d83010d1",
   "metadata": {},
   "outputs": [],
   "source": [
    "simulation_results = pd.DataFrame(np.array(simulation_results), columns=['MUON_estimate', 'PION_estimate', 'MUON_uncer', 'PION_uncer'])\n",
    "simulation_results.replace([np.inf, -np.inf], np.nan, inplace=True)\n",
    "simulation_results.dropna(inplace=True)\n",
    "simulation_results = simulation_results[simulation_results['MUON_estimate']>0]"
   ]
  },
  {
   "cell_type": "code",
   "execution_count": 7,
   "id": "25b0d1bb",
   "metadata": {},
   "outputs": [
    {
     "data": {
      "text/html": [
       "<div>\n",
       "<style scoped>\n",
       "    .dataframe tbody tr th:only-of-type {\n",
       "        vertical-align: middle;\n",
       "    }\n",
       "\n",
       "    .dataframe tbody tr th {\n",
       "        vertical-align: top;\n",
       "    }\n",
       "\n",
       "    .dataframe thead th {\n",
       "        text-align: right;\n",
       "    }\n",
       "</style>\n",
       "<table border=\"1\" class=\"dataframe\">\n",
       "  <thead>\n",
       "    <tr style=\"text-align: right;\">\n",
       "      <th></th>\n",
       "      <th>MUON_estimate</th>\n",
       "      <th>PION_estimate</th>\n",
       "      <th>MUON_uncer</th>\n",
       "      <th>PION_uncer</th>\n",
       "    </tr>\n",
       "  </thead>\n",
       "  <tbody>\n",
       "    <tr>\n",
       "      <th>0</th>\n",
       "      <td>2.781967e-08</td>\n",
       "      <td>0.000002</td>\n",
       "      <td>0.0</td>\n",
       "      <td>0.0</td>\n",
       "    </tr>\n",
       "    <tr>\n",
       "      <th>1</th>\n",
       "      <td>2.586142e-08</td>\n",
       "      <td>0.000002</td>\n",
       "      <td>0.0</td>\n",
       "      <td>0.0</td>\n",
       "    </tr>\n",
       "    <tr>\n",
       "      <th>2</th>\n",
       "      <td>2.820677e-08</td>\n",
       "      <td>0.000002</td>\n",
       "      <td>0.0</td>\n",
       "      <td>0.0</td>\n",
       "    </tr>\n",
       "    <tr>\n",
       "      <th>3</th>\n",
       "      <td>2.466123e-08</td>\n",
       "      <td>0.000002</td>\n",
       "      <td>0.0</td>\n",
       "      <td>0.0</td>\n",
       "    </tr>\n",
       "    <tr>\n",
       "      <th>4</th>\n",
       "      <td>3.058747e-08</td>\n",
       "      <td>0.000002</td>\n",
       "      <td>0.0</td>\n",
       "      <td>0.0</td>\n",
       "    </tr>\n",
       "    <tr>\n",
       "      <th>...</th>\n",
       "      <td>...</td>\n",
       "      <td>...</td>\n",
       "      <td>...</td>\n",
       "      <td>...</td>\n",
       "    </tr>\n",
       "    <tr>\n",
       "      <th>995</th>\n",
       "      <td>2.433283e-08</td>\n",
       "      <td>0.000002</td>\n",
       "      <td>0.0</td>\n",
       "      <td>0.0</td>\n",
       "    </tr>\n",
       "    <tr>\n",
       "      <th>996</th>\n",
       "      <td>2.398464e-08</td>\n",
       "      <td>0.000002</td>\n",
       "      <td>0.0</td>\n",
       "      <td>0.0</td>\n",
       "    </tr>\n",
       "    <tr>\n",
       "      <th>997</th>\n",
       "      <td>2.399842e-08</td>\n",
       "      <td>0.000002</td>\n",
       "      <td>0.0</td>\n",
       "      <td>0.0</td>\n",
       "    </tr>\n",
       "    <tr>\n",
       "      <th>998</th>\n",
       "      <td>2.581365e-08</td>\n",
       "      <td>0.000002</td>\n",
       "      <td>0.0</td>\n",
       "      <td>0.0</td>\n",
       "    </tr>\n",
       "    <tr>\n",
       "      <th>999</th>\n",
       "      <td>2.615181e-08</td>\n",
       "      <td>0.000002</td>\n",
       "      <td>0.0</td>\n",
       "      <td>0.0</td>\n",
       "    </tr>\n",
       "  </tbody>\n",
       "</table>\n",
       "<p>997 rows × 4 columns</p>\n",
       "</div>"
      ],
      "text/plain": [
       "     MUON_estimate  PION_estimate  MUON_uncer  PION_uncer\n",
       "0     2.781967e-08       0.000002         0.0         0.0\n",
       "1     2.586142e-08       0.000002         0.0         0.0\n",
       "2     2.820677e-08       0.000002         0.0         0.0\n",
       "3     2.466123e-08       0.000002         0.0         0.0\n",
       "4     3.058747e-08       0.000002         0.0         0.0\n",
       "..             ...            ...         ...         ...\n",
       "995   2.433283e-08       0.000002         0.0         0.0\n",
       "996   2.398464e-08       0.000002         0.0         0.0\n",
       "997   2.399842e-08       0.000002         0.0         0.0\n",
       "998   2.581365e-08       0.000002         0.0         0.0\n",
       "999   2.615181e-08       0.000002         0.0         0.0\n",
       "\n",
       "[997 rows x 4 columns]"
      ]
     },
     "execution_count": 7,
     "metadata": {},
     "output_type": "execute_result"
    }
   ],
   "source": [
    "simulation_results"
   ]
  },
  {
   "cell_type": "code",
   "execution_count": 8,
   "id": "5c22ea65",
   "metadata": {},
   "outputs": [],
   "source": [
    "MUON_mean = simulation_results['MUON_estimate'].mean()\n",
    "PION_mean = simulation_results['PION_estimate'].mean()\n",
    "MUON_uncer = np.sqrt(np.mean(np.power(simulation_results['MUON_uncer'],2)))\n",
    "PION_uncer = np.sqrt(np.mean(np.power(simulation_results['PION_uncer'],2)))\n",
    "MUON_std = simulation_results['MUON_estimate'].std()\n",
    "PION_std = simulation_results['PION_estimate'].std()"
   ]
  },
  {
   "cell_type": "code",
   "execution_count": 9,
   "id": "fab147e7",
   "metadata": {},
   "outputs": [
    {
     "data": {
      "image/png": "[encoded data removed]",
      "text/plain": [
       "<Figure size 900x400 with 2 Axes>"
      ]
     },
     "metadata": {},
     "output_type": "display_data"
    }
   ],
   "source": [
    "fig, ax = plt.subplots(ncols=2, nrows=1, figsize=(9,4))\n",
    "simulation_results.hist(column=['MUON_estimate'], ax=ax[0], bins=50, density=True)\n",
    "simulation_results.hist(column=['PION_estimate'], ax=ax[1], bins=50, density=True)\n",
    "for i in ax:\n",
    "    i.set_ylabel('Density')\n",
    "    i.set_xlabel('Lifetimes [s]')\n",
    "    i.set_ylim(i.get_ylim())\n",
    "\n",
    "ax[0].vlines(MUON_mean, *ax[0].get_ylim(), color='k', label='mean')\n",
    "ax[1].vlines(PION_mean, *ax[1].get_ylim(), color='k')\n",
    "\n",
    "ax[0].vlines([MUON_mean + MUON_uncer, MUON_mean - MUON_uncer], *ax[0].get_ylim(), color='k', linestyle='--')\n",
    "ax[1].vlines([PION_mean + PION_uncer, PION_mean - PION_uncer], *ax[1].get_ylim(), color='k', linestyle='--')\n",
    "\n",
    "ax[0].vlines([MUON_mean + MUON_std, MUON_mean - MUON_std], *ax[0].get_ylim(), color='r', linestyle='--', label='std')\n",
    "ax[1].vlines([PION_mean + PION_std, PION_mean - PION_std], *ax[1].get_ylim(), color='r', linestyle='--')\n",
    "\n",
    "fig.suptitle('Maximise likelihood fit')\n",
    "ax[0].legend()\n",
    "plt.tight_layout()"
   ]
  },
  {
   "cell_type": "code",
   "execution_count": 11,
   "id": "f696a7a4",
   "metadata": {},
   "outputs": [],
   "source": [
    "MUON_pull = pull(MUON_mean, simulation_results['MUON_estimate'], MUON_std)\n",
    "PION_pull = pull(PION_mean, simulation_results['PION_estimate'], PION_std)"
   ]
  },
  {
   "cell_type": "code",
   "execution_count": 27,
   "id": "e06358fa",
   "metadata": {},
   "outputs": [
    {
     "data": {
      "text/plain": [
       "[<matplotlib.lines.Line2D at 0x133f33d90>]"
      ]
     },
     "execution_count": 27,
     "metadata": {},
     "output_type": "execute_result"
    },
    {
     "data": {
      "image/png": "[encoded data removed]",
      "text/plain": [
       "<Figure size 900x400 with 2 Axes>"
      ]
     },
     "metadata": {},
     "output_type": "display_data"
    }
   ],
   "source": [
    "fig, ax = plt.subplots(ncols=2, nrows=1, figsize=(9,4))\n",
    "ax[0].hist(MUON_pull, bins=50, density=True)\n",
    "ax[1].hist(PION_pull, bins=50, density=True)\n",
    "\n",
    "ts_muon = np.linspace(*ax[0].get_xlim(),100)\n",
    "ax[0].plot(ts_muon, norm.pdf(ts_muon))\n",
    "ax[0].plot(ts_muon, norm.pdf(ts_muon, np.mean(MUON_pull), np.std(MUON_pull)))\n",
    "\n",
    "ts_pion = np.linspace(*ax[1].get_xlim(),100)\n",
    "ax[1].plot(ts_pion, norm.pdf(ts_pion))"
   ]
  },
  {
   "cell_type": "code",
   "execution_count": null,
   "id": "463998cb",
   "metadata": {},
   "outputs": [
    {
     "data": {
      "text/plain": [
       "np.float64(0.9994983696699654)"
      ]
     },
     "execution_count": 26,
     "metadata": {},
     "output_type": "execute_result"
    }
   ],
   "source": []
  },
  {
   "cell_type": "code",
   "execution_count": null,
   "id": "7d4ddd4d",
   "metadata": {},
   "outputs": [],
   "source": []
  }
 ],
 "metadata": {
  "kernelspec": {
   "display_name": ".venv",
   "language": "python",
   "name": "python3"
  },
  "language_info": {
   "codemirror_mode": {
    "name": "ipython",
    "version": 3
   },
   "file_extension": ".py",
   "mimetype": "text/x-python",
   "name": "python",
   "nbconvert_exporter": "python",
   "pygments_lexer": "ipython3",
   "version": "3.10.16"
  }
 },
 "nbformat": 4,
 "nbformat_minor": 5
}
