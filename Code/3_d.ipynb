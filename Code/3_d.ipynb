{
 "cells": [
  {
   "cell_type": "code",
   "execution_count": 33,
   "id": "9aa83c72",
   "metadata": {},
   "outputs": [],
   "source": [
    "# generic libraries\n",
    "import matplotlib.pyplot as plt\n",
    "import numpy as np\n",
    "import pandas as pd\n",
    "\n",
    "# project specific custom libraries\n",
    "from config import *\n",
    "from simulation import simulate_decay_times\n",
    "from analysis import *\n",
    "\n",
    "from joblib import delayed, Parallel"
   ]
  },
  {
   "cell_type": "code",
   "execution_count": 34,
   "id": "c4ee6086",
   "metadata": {},
   "outputs": [],
   "source": [
    "#set a seed for numpys random number generator\n",
    "# np.random.seed(42)"
   ]
  },
  {
   "cell_type": "code",
   "execution_count": 35,
   "id": "f9bf539d",
   "metadata": {},
   "outputs": [],
   "source": [
    "t_bounds = [0, 20000e-9]\n",
    "n = 10000\n",
    "n_sims = 1000\n",
    "\n",
    "MUON_estimate = 2e-6\n",
    "PION_estimate = 1.2e-8\n",
    "initial_guess = [MUON_estimate, PION_estimate]"
   ]
  },
  {
   "cell_type": "code",
   "execution_count": 36,
   "id": "69c2e486",
   "metadata": {},
   "outputs": [],
   "source": [
    "def simulation(n, t_bounds, initial_guess, bounds=(-np.inf, np.inf)):\n",
    "\n",
    "    simulated_decay_points = simulate_decay_times(n, t_bounds[1])\n",
    "    counts, bins = np.histogram(simulated_decay_points[:, 0] , bins=35, density=False)\n",
    "\n",
    "    return binned_least_squares_fit(counts, bins, initial_guess, bounds)"
   ]
  },
  {
   "cell_type": "code",
   "execution_count": 37,
   "id": "bea92e6f",
   "metadata": {},
   "outputs": [
    {
     "name": "stderr",
     "output_type": "stream",
     "text": [
      "/Users/tillboehringer/Dropbox/Studium/Physik/Semester4/PHY241_Project/PHY241/Code/analysis.py:24: OptimizeWarning: Covariance of the parameters could not be estimated\n",
      "  popt, pcov = curve_fit(N_wrapper, bin_centers, counts, p0=initial_guess, bounds=bounds)\n",
      "/Users/tillboehringer/Dropbox/Studium/Physik/Semester4/PHY241_Project/PHY241/Code/analysis.py:24: OptimizeWarning: Covariance of the parameters could not be estimated\n",
      "  popt, pcov = curve_fit(N_wrapper, bin_centers, counts, p0=initial_guess, bounds=bounds)\n",
      "/Users/tillboehringer/Dropbox/Studium/Physik/Semester4/PHY241_Project/PHY241/Code/analysis.py:24: OptimizeWarning: Covariance of the parameters could not be estimated\n",
      "  popt, pcov = curve_fit(N_wrapper, bin_centers, counts, p0=initial_guess, bounds=bounds)\n"
     ]
    }
   ],
   "source": [
    "# simulation_results = [simulation(n, t_bounds, initial_guess) for _ in range(n_sims)]\n",
    "simulation_results = Parallel(n_jobs=-1)(delayed(simulation)(n, t_bounds, initial_guess) for _ in range(n_sims))"
   ]
  },
  {
   "cell_type": "code",
   "execution_count": 38,
   "id": "d83010d1",
   "metadata": {},
   "outputs": [],
   "source": [
    "simulation_results = pd.DataFrame(np.array(simulation_results), columns=['MUON_estimate', 'PION_estimate', 'MUON_uncer', 'PION_uncer'])\n",
    "simulation_results.replace([np.inf, -np.inf], np.nan, inplace=True)\n",
    "simulation_results.dropna(inplace=True)"
   ]
  },
  {
   "cell_type": "code",
   "execution_count": 39,
   "id": "25b0d1bb",
   "metadata": {},
   "outputs": [
    {
     "data": {
      "text/html": [
       "<div>\n",
       "<style scoped>\n",
       "    .dataframe tbody tr th:only-of-type {\n",
       "        vertical-align: middle;\n",
       "    }\n",
       "\n",
       "    .dataframe tbody tr th {\n",
       "        vertical-align: top;\n",
       "    }\n",
       "\n",
       "    .dataframe thead th {\n",
       "        text-align: right;\n",
       "    }\n",
       "</style>\n",
       "<table border=\"1\" class=\"dataframe\">\n",
       "  <thead>\n",
       "    <tr style=\"text-align: right;\">\n",
       "      <th></th>\n",
       "      <th>MUON_estimate</th>\n",
       "      <th>PION_estimate</th>\n",
       "      <th>MUON_uncer</th>\n",
       "      <th>PION_uncer</th>\n",
       "    </tr>\n",
       "  </thead>\n",
       "  <tbody>\n",
       "    <tr>\n",
       "      <th>0</th>\n",
       "      <td>0.000002</td>\n",
       "      <td>2.501415e-08</td>\n",
       "      <td>2.675543e-08</td>\n",
       "      <td>1.884463e-08</td>\n",
       "    </tr>\n",
       "    <tr>\n",
       "      <th>1</th>\n",
       "      <td>0.000002</td>\n",
       "      <td>9.343475e-08</td>\n",
       "      <td>1.801798e-08</td>\n",
       "      <td>5.499304e-09</td>\n",
       "    </tr>\n",
       "    <tr>\n",
       "      <th>2</th>\n",
       "      <td>0.000002</td>\n",
       "      <td>7.477099e-08</td>\n",
       "      <td>2.071946e-08</td>\n",
       "      <td>6.960962e-09</td>\n",
       "    </tr>\n",
       "    <tr>\n",
       "      <th>3</th>\n",
       "      <td>0.000002</td>\n",
       "      <td>2.634528e-08</td>\n",
       "      <td>1.655303e-08</td>\n",
       "      <td>1.169596e-08</td>\n",
       "    </tr>\n",
       "    <tr>\n",
       "      <th>4</th>\n",
       "      <td>0.000002</td>\n",
       "      <td>1.433481e-08</td>\n",
       "      <td>2.170725e-08</td>\n",
       "      <td>1.512245e-08</td>\n",
       "    </tr>\n",
       "    <tr>\n",
       "      <th>...</th>\n",
       "      <td>...</td>\n",
       "      <td>...</td>\n",
       "      <td>...</td>\n",
       "      <td>...</td>\n",
       "    </tr>\n",
       "    <tr>\n",
       "      <th>994</th>\n",
       "      <td>0.000002</td>\n",
       "      <td>1.910164e-08</td>\n",
       "      <td>2.085816e-08</td>\n",
       "      <td>1.450679e-08</td>\n",
       "    </tr>\n",
       "    <tr>\n",
       "      <th>995</th>\n",
       "      <td>0.000002</td>\n",
       "      <td>2.795002e-08</td>\n",
       "      <td>2.629947e-08</td>\n",
       "      <td>1.879641e-08</td>\n",
       "    </tr>\n",
       "    <tr>\n",
       "      <th>996</th>\n",
       "      <td>0.000002</td>\n",
       "      <td>8.266284e-08</td>\n",
       "      <td>1.779391e-08</td>\n",
       "      <td>5.632755e-09</td>\n",
       "    </tr>\n",
       "    <tr>\n",
       "      <th>997</th>\n",
       "      <td>0.000002</td>\n",
       "      <td>5.511031e-08</td>\n",
       "      <td>1.409039e-08</td>\n",
       "      <td>1.072412e-08</td>\n",
       "    </tr>\n",
       "    <tr>\n",
       "      <th>999</th>\n",
       "      <td>0.000002</td>\n",
       "      <td>1.836614e-08</td>\n",
       "      <td>2.376468e-08</td>\n",
       "      <td>1.653051e-08</td>\n",
       "    </tr>\n",
       "  </tbody>\n",
       "</table>\n",
       "<p>989 rows × 4 columns</p>\n",
       "</div>"
      ],
      "text/plain": [
       "     MUON_estimate  PION_estimate    MUON_uncer    PION_uncer\n",
       "0         0.000002   2.501415e-08  2.675543e-08  1.884463e-08\n",
       "1         0.000002   9.343475e-08  1.801798e-08  5.499304e-09\n",
       "2         0.000002   7.477099e-08  2.071946e-08  6.960962e-09\n",
       "3         0.000002   2.634528e-08  1.655303e-08  1.169596e-08\n",
       "4         0.000002   1.433481e-08  2.170725e-08  1.512245e-08\n",
       "..             ...            ...           ...           ...\n",
       "994       0.000002   1.910164e-08  2.085816e-08  1.450679e-08\n",
       "995       0.000002   2.795002e-08  2.629947e-08  1.879641e-08\n",
       "996       0.000002   8.266284e-08  1.779391e-08  5.632755e-09\n",
       "997       0.000002   5.511031e-08  1.409039e-08  1.072412e-08\n",
       "999       0.000002   1.836614e-08  2.376468e-08  1.653051e-08\n",
       "\n",
       "[989 rows x 4 columns]"
      ]
     },
     "execution_count": 39,
     "metadata": {},
     "output_type": "execute_result"
    }
   ],
   "source": [
    "simulation_results"
   ]
  },
  {
   "cell_type": "code",
   "execution_count": 40,
   "id": "5c22ea65",
   "metadata": {},
   "outputs": [
    {
     "name": "stdout",
     "output_type": "stream",
     "text": [
      "2.161430412074037e-08\n"
     ]
    }
   ],
   "source": [
    "MUON_mean = simulation_results['MUON_estimate'].mean()\n",
    "PION_mean = simulation_results['PION_estimate'].mean()\n",
    "MUON_uncer = np.sqrt(np.mean(np.power(simulation_results['MUON_uncer'],2)))\n",
    "PION_uncer = np.sqrt(np.mean(np.power(simulation_results['PION_uncer'],2)))\n",
    "print(MUON_uncer)"
   ]
  },
  {
   "cell_type": "code",
   "execution_count": 41,
   "id": "fab147e7",
   "metadata": {},
   "outputs": [
    {
     "data": {
      "image/png": "[encoded data removed]",
      "text/plain": [
       "<Figure size 900x400 with 2 Axes>"
      ]
     },
     "metadata": {},
     "output_type": "display_data"
    }
   ],
   "source": [
    "fig, ax = plt.subplots(ncols=2, nrows=1, figsize=(9,4))\n",
    "simulation_results.hist(column=['MUON_estimate'], ax=ax[0], bins=50, density=True)\n",
    "simulation_results.hist(column=['PION_estimate'], ax=ax[1], bins=50, density=True)\n",
    "for i in ax:\n",
    "    i.set_ylabel('Density')\n",
    "    i.set_xlabel('Lifetimes [s]')\n",
    "\n",
    "ax[0].vlines(MUON_mean, *ax[0].get_ylim(), color='k')\n",
    "ax[1].vlines(PION_mean, *ax[1].get_ylim(), color='k')\n",
    "\n",
    "ax[0].vlines([MUON_mean + MUON_uncer, MUON_mean - MUON_uncer], *ax[0].get_ylim(), color='k', linestyle='--')\n",
    "ax[1].vlines([PION_mean + PION_uncer, PION_mean - PION_uncer], *ax[1].get_ylim(), color='k', linestyle='--')\n",
    "\n",
    "plt.tight_layout()"
   ]
  },
  {
   "cell_type": "code",
   "execution_count": 46,
   "id": "62f8aa24",
   "metadata": {},
   "outputs": [],
   "source": [
    "bounds = ([-np.inf, 0.1e-10],[np.inf, 0.5e-7])\n",
    "# simulation_results_bounded = [simulation(n, t_bounds, initial_guess, bounds=bounds) for _ in range(n_sims)]\n",
    "simulation_results_bounded = Parallel(n_jobs=-1)(delayed(simulation)(n, t_bounds, initial_guess, bounds=bounds) for _ in range(n_sims))\n",
    "simulation_results_bounded = pd.DataFrame(np.array(simulation_results_bounded), columns=['MUON_estimate', 'PION_estimate', 'MUON_uncer', 'PION_uncer'])\n",
    "simulation_results_bounded.replace([np.inf, -np.inf], np.nan, inplace=True)\n",
    "simulation_results_bounded.dropna(inplace=True)\n",
    "\n",
    "simulation_results_bounded.query('PION_estimate < 5e-8', inplace=True)\n",
    "\n",
    "MUON_mean_bounded = simulation_results_bounded['MUON_estimate'].mean()\n",
    "PION_mean_bounded = simulation_results_bounded['PION_estimate'].mean()\n",
    "MUON_uncer_bounded = np.sqrt(np.mean(np.power(simulation_results_bounded['MUON_uncer'],2)))\n",
    "PION_uncer_bounded = np.sqrt(np.mean(np.power(simulation_results_bounded['PION_uncer'],2)))"
   ]
  },
  {
   "cell_type": "code",
   "execution_count": 47,
   "id": "c681e02f",
   "metadata": {},
   "outputs": [
    {
     "data": {
      "image/png": "[encoded data removed]",
      "text/plain": [
       "<Figure size 900x400 with 2 Axes>"
      ]
     },
     "metadata": {},
     "output_type": "display_data"
    }
   ],
   "source": [
    "fig, ax = plt.subplots(ncols=2, nrows=1, figsize=(9,4))\n",
    "simulation_results_bounded.hist(column=['MUON_estimate'], ax=ax[0], bins=50, density=True)\n",
    "simulation_results_bounded.hist(column=['PION_estimate'], ax=ax[1], bins=50, density=True)\n",
    "for i in ax:\n",
    "    i.set_ylabel('Density')\n",
    "    i.set_xlabel('Lifetimes [s]')\n",
    "\n",
    "ax[0].vlines(MUON_mean_bounded, *ax[0].get_ylim(), color='k')\n",
    "ax[1].vlines(PION_mean_bounded, *ax[1].get_ylim(), color='k')\n",
    "\n",
    "ax[0].vlines([MUON_mean_bounded + MUON_uncer_bounded, MUON_mean_bounded - MUON_uncer_bounded], *ax[0].get_ylim(), color='k', linestyle='--')\n",
    "ax[1].vlines([PION_mean_bounded + PION_uncer_bounded, PION_mean_bounded - PION_uncer_bounded], *ax[1].get_ylim(), color='k', linestyle='--')\n",
    "\n",
    "plt.tight_layout()"
   ]
  },
  {
   "cell_type": "code",
   "execution_count": null,
   "id": "f696a7a4",
   "metadata": {},
   "outputs": [],
   "source": []
  }
 ],
 "metadata": {
  "kernelspec": {
   "display_name": ".venv",
   "language": "python",
   "name": "python3"
  },
  "language_info": {
   "codemirror_mode": {
    "name": "ipython",
    "version": 3
   },
   "file_extension": ".py",
   "mimetype": "text/x-python",
   "name": "python",
   "nbconvert_exporter": "python",
   "pygments_lexer": "ipython3",
   "version": "3.10.16"
  }
 },
 "nbformat": 4,
 "nbformat_minor": 5
}
