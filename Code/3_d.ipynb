{
 "cells": [
  {
   "cell_type": "code",
   "execution_count": 22,
   "id": "9aa83c72",
   "metadata": {},
   "outputs": [],
   "source": [
    "# generic libraries\n",
    "import matplotlib.pyplot as plt\n",
    "import numpy as np\n",
    "import pandas as pd\n",
    "\n",
    "# project specific custom libraries\n",
    "from config import *\n",
    "from simulation import simulate_decay_times\n",
    "from analysis import *\n",
    "\n",
    "from joblib import delayed, Parallel"
   ]
  },
  {
   "cell_type": "code",
   "execution_count": 23,
   "id": "c4ee6086",
   "metadata": {},
   "outputs": [],
   "source": [
    "#set a seed for numpys random number generator\n",
    "# np.random.seed(42)"
   ]
  },
  {
   "cell_type": "code",
   "execution_count": 24,
   "id": "f9bf539d",
   "metadata": {},
   "outputs": [],
   "source": [
    "t_bounds = [0, 20000e-9]\n",
    "n = 10000\n",
    "n_sims = 1000\n",
    "\n",
    "MUON_estimate = 2e-6\n",
    "PION_estimate = 1.2e-8\n",
    "initial_guess = [MUON_estimate, PION_estimate]"
   ]
  },
  {
   "cell_type": "code",
   "execution_count": 25,
   "id": "69c2e486",
   "metadata": {},
   "outputs": [],
   "source": [
    "def simulation(n, t_bounds, initial_guess, bins=150):\n",
    "\n",
    "    simulated_decay_points = simulate_decay_times(n, t_bounds[1])\n",
    "    counts, bins = np.histogram(simulated_decay_points[:, 0] , bins=150, density=False)\n",
    "\n",
    "    return binned_maximum_likelihood_fit_2(counts, bins, initial_guess)"
   ]
  },
  {
   "cell_type": "code",
   "execution_count": 26,
   "id": "bea92e6f",
   "metadata": {},
   "outputs": [
    {
     "name": "stderr",
     "output_type": "stream",
     "text": [
      "/Users/tillboehringer/Dropbox/Studium/Physik/Semester4/PHY241_Project/PHY241/Code/config.py:14: RuntimeWarning: overflow encountered in exp\n",
      "  second_part = exp(- t / muon_mean_lifetime) - exp(- t / pion_mean_lifetime)\n",
      "/Users/tillboehringer/Dropbox/Studium/Physik/Semester4/PHY241_Project/PHY241/Code/analysis.py:163: RuntimeWarning: invalid value encountered in log\n",
      "  nll = - np.sum(counts * np.log(estimated_counts))\n",
      "/Users/tillboehringer/Dropbox/Studium/Physik/Semester4/PHY241_Project/PHY241/Code/analysis.py:163: RuntimeWarning: divide by zero encountered in log\n",
      "  nll = - np.sum(counts * np.log(estimated_counts))\n",
      "/Users/tillboehringer/Dropbox/Studium/Physik/Semester4/PHY241_Project/PHY241/Code/analysis.py:163: RuntimeWarning: invalid value encountered in multiply\n",
      "  nll = - np.sum(counts * np.log(estimated_counts))\n",
      "/Users/tillboehringer/Dropbox/Studium/Physik/Semester4/PHY241_Project/PHY241/Code/config.py:14: RuntimeWarning: overflow encountered in exp\n",
      "  second_part = exp(- t / muon_mean_lifetime) - exp(- t / pion_mean_lifetime)\n",
      "/Users/tillboehringer/Dropbox/Studium/Physik/Semester4/PHY241_Project/PHY241/Code/analysis.py:163: RuntimeWarning: invalid value encountered in log\n",
      "  nll = - np.sum(counts * np.log(estimated_counts))\n",
      "/Users/tillboehringer/Dropbox/Studium/Physik/Semester4/PHY241_Project/PHY241/Code/config.py:17: RuntimeWarning: overflow encountered in multiply\n",
      "  return first_part * second_part\n",
      "/Users/tillboehringer/Dropbox/Studium/Physik/Semester4/PHY241_Project/PHY241/Code/analysis.py:163: RuntimeWarning: invalid value encountered in log\n",
      "  nll = - np.sum(counts * np.log(estimated_counts))\n",
      "/Users/tillboehringer/Dropbox/Studium/Physik/Semester4/PHY241_Project/PHY241/Code/config.py:14: RuntimeWarning: overflow encountered in exp\n",
      "  second_part = exp(- t / muon_mean_lifetime) - exp(- t / pion_mean_lifetime)\n",
      "/Users/tillboehringer/Dropbox/Studium/Physik/Semester4/PHY241_Project/PHY241/Code/analysis.py:163: RuntimeWarning: invalid value encountered in log\n",
      "  nll = - np.sum(counts * np.log(estimated_counts))\n",
      "/Users/tillboehringer/Dropbox/Studium/Physik/Semester4/PHY241_Project/PHY241/Code/analysis.py:163: RuntimeWarning: divide by zero encountered in log\n",
      "  nll = - np.sum(counts * np.log(estimated_counts))\n",
      "/Users/tillboehringer/Dropbox/Studium/Physik/Semester4/PHY241_Project/PHY241/Code/analysis.py:163: RuntimeWarning: invalid value encountered in multiply\n",
      "  nll = - np.sum(counts * np.log(estimated_counts))\n",
      "/Users/tillboehringer/Dropbox/Studium/Physik/Semester4/PHY241_Project/PHY241/Code/config.py:14: RuntimeWarning: overflow encountered in exp\n",
      "  second_part = exp(- t / muon_mean_lifetime) - exp(- t / pion_mean_lifetime)\n",
      "/Users/tillboehringer/Dropbox/Studium/Physik/Semester4/PHY241_Project/PHY241/Code/analysis.py:163: RuntimeWarning: invalid value encountered in log\n",
      "  nll = - np.sum(counts * np.log(estimated_counts))\n",
      "/Users/tillboehringer/Dropbox/Studium/Physik/Semester4/PHY241_Project/PHY241/Code/config.py:17: RuntimeWarning: overflow encountered in multiply\n",
      "  return first_part * second_part\n",
      "/Users/tillboehringer/Dropbox/Studium/Physik/Semester4/PHY241_Project/PHY241/Code/analysis.py:163: RuntimeWarning: invalid value encountered in log\n",
      "  nll = - np.sum(counts * np.log(estimated_counts))\n"
     ]
    }
   ],
   "source": [
    "# simulation_results = [simulation(n, t_bounds, initial_guess) for _ in range(n_sims)]\n",
    "simulation_results = Parallel(n_jobs=-1)(delayed(simulation)(n, t_bounds, initial_guess) for _ in range(n_sims))"
   ]
  },
  {
   "cell_type": "code",
   "execution_count": 27,
   "id": "d83010d1",
   "metadata": {},
   "outputs": [],
   "source": [
    "simulation_results = pd.DataFrame(np.array(simulation_results), columns=['MUON_estimate', 'PION_estimate', 'MUON_uncer', 'PION_uncer'])\n",
    "simulation_results.replace([np.inf, -np.inf], np.nan, inplace=True)\n",
    "simulation_results.dropna(inplace=True)"
   ]
  },
  {
   "cell_type": "code",
   "execution_count": 28,
   "id": "25b0d1bb",
   "metadata": {},
   "outputs": [
    {
     "data": {
      "text/html": [
       "<div>\n",
       "<style scoped>\n",
       "    .dataframe tbody tr th:only-of-type {\n",
       "        vertical-align: middle;\n",
       "    }\n",
       "\n",
       "    .dataframe tbody tr th {\n",
       "        vertical-align: top;\n",
       "    }\n",
       "\n",
       "    .dataframe thead th {\n",
       "        text-align: right;\n",
       "    }\n",
       "</style>\n",
       "<table border=\"1\" class=\"dataframe\">\n",
       "  <thead>\n",
       "    <tr style=\"text-align: right;\">\n",
       "      <th></th>\n",
       "      <th>MUON_estimate</th>\n",
       "      <th>PION_estimate</th>\n",
       "      <th>MUON_uncer</th>\n",
       "      <th>PION_uncer</th>\n",
       "    </tr>\n",
       "  </thead>\n",
       "  <tbody>\n",
       "    <tr>\n",
       "      <th>0</th>\n",
       "      <td>2.254653e-08</td>\n",
       "      <td>0.000002</td>\n",
       "      <td>0.0</td>\n",
       "      <td>0.0</td>\n",
       "    </tr>\n",
       "    <tr>\n",
       "      <th>1</th>\n",
       "      <td>2.665566e-08</td>\n",
       "      <td>0.000002</td>\n",
       "      <td>0.0</td>\n",
       "      <td>0.0</td>\n",
       "    </tr>\n",
       "    <tr>\n",
       "      <th>2</th>\n",
       "      <td>2.266013e-08</td>\n",
       "      <td>0.000002</td>\n",
       "      <td>0.0</td>\n",
       "      <td>0.0</td>\n",
       "    </tr>\n",
       "    <tr>\n",
       "      <th>3</th>\n",
       "      <td>2.358862e-08</td>\n",
       "      <td>0.000002</td>\n",
       "      <td>0.0</td>\n",
       "      <td>0.0</td>\n",
       "    </tr>\n",
       "    <tr>\n",
       "      <th>4</th>\n",
       "      <td>2.753204e-08</td>\n",
       "      <td>0.000002</td>\n",
       "      <td>0.0</td>\n",
       "      <td>0.0</td>\n",
       "    </tr>\n",
       "    <tr>\n",
       "      <th>...</th>\n",
       "      <td>...</td>\n",
       "      <td>...</td>\n",
       "      <td>...</td>\n",
       "      <td>...</td>\n",
       "    </tr>\n",
       "    <tr>\n",
       "      <th>995</th>\n",
       "      <td>2.957641e-08</td>\n",
       "      <td>0.000002</td>\n",
       "      <td>0.0</td>\n",
       "      <td>0.0</td>\n",
       "    </tr>\n",
       "    <tr>\n",
       "      <th>996</th>\n",
       "      <td>2.340876e-08</td>\n",
       "      <td>0.000002</td>\n",
       "      <td>0.0</td>\n",
       "      <td>0.0</td>\n",
       "    </tr>\n",
       "    <tr>\n",
       "      <th>997</th>\n",
       "      <td>2.362278e-08</td>\n",
       "      <td>0.000002</td>\n",
       "      <td>0.0</td>\n",
       "      <td>0.0</td>\n",
       "    </tr>\n",
       "    <tr>\n",
       "      <th>998</th>\n",
       "      <td>2.281060e-08</td>\n",
       "      <td>0.000002</td>\n",
       "      <td>0.0</td>\n",
       "      <td>0.0</td>\n",
       "    </tr>\n",
       "    <tr>\n",
       "      <th>999</th>\n",
       "      <td>2.787686e-08</td>\n",
       "      <td>0.000002</td>\n",
       "      <td>0.0</td>\n",
       "      <td>0.0</td>\n",
       "    </tr>\n",
       "  </tbody>\n",
       "</table>\n",
       "<p>1000 rows × 4 columns</p>\n",
       "</div>"
      ],
      "text/plain": [
       "     MUON_estimate  PION_estimate  MUON_uncer  PION_uncer\n",
       "0     2.254653e-08       0.000002         0.0         0.0\n",
       "1     2.665566e-08       0.000002         0.0         0.0\n",
       "2     2.266013e-08       0.000002         0.0         0.0\n",
       "3     2.358862e-08       0.000002         0.0         0.0\n",
       "4     2.753204e-08       0.000002         0.0         0.0\n",
       "..             ...            ...         ...         ...\n",
       "995   2.957641e-08       0.000002         0.0         0.0\n",
       "996   2.340876e-08       0.000002         0.0         0.0\n",
       "997   2.362278e-08       0.000002         0.0         0.0\n",
       "998   2.281060e-08       0.000002         0.0         0.0\n",
       "999   2.787686e-08       0.000002         0.0         0.0\n",
       "\n",
       "[1000 rows x 4 columns]"
      ]
     },
     "execution_count": 28,
     "metadata": {},
     "output_type": "execute_result"
    }
   ],
   "source": [
    "simulation_results"
   ]
  },
  {
   "cell_type": "code",
   "execution_count": 29,
   "id": "a8882d0a",
   "metadata": {},
   "outputs": [],
   "source": [
    "simulation_results = simulation_results[simulation_results['MUON_estimate']>0]"
   ]
  },
  {
   "cell_type": "code",
   "execution_count": 30,
   "id": "5c22ea65",
   "metadata": {},
   "outputs": [
    {
     "name": "stdout",
     "output_type": "stream",
     "text": [
      "0.0\n"
     ]
    }
   ],
   "source": [
    "MUON_mean = simulation_results['MUON_estimate'].mean()\n",
    "PION_mean = simulation_results['PION_estimate'].mean()\n",
    "MUON_uncer = np.sqrt(np.mean(np.power(simulation_results['MUON_uncer'],2)))\n",
    "PION_uncer = np.sqrt(np.mean(np.power(simulation_results['PION_uncer'],2)))\n",
    "print(MUON_uncer)"
   ]
  },
  {
   "cell_type": "code",
   "execution_count": 34,
   "id": "fab147e7",
   "metadata": {},
   "outputs": [
    {
     "data": {
      "image/png": "[encoded data removed]",
      "text/plain": [
       "<Figure size 900x400 with 2 Axes>"
      ]
     },
     "metadata": {},
     "output_type": "display_data"
    }
   ],
   "source": [
    "fig, ax = plt.subplots(ncols=2, nrows=1, figsize=(9,4))\n",
    "simulation_results.hist(column=['MUON_estimate'], ax=ax[0], bins=50, density=True)\n",
    "simulation_results.hist(column=['PION_estimate'], ax=ax[1], bins=50, density=True)\n",
    "for i in ax:\n",
    "    i.set_ylabel('Density')\n",
    "    i.set_xlabel('Lifetimes [s]')\n",
    "\n",
    "ax[0].vlines(MUON_mean, *ax[0].get_ylim(), color='k')\n",
    "ax[1].vlines(PION_mean, *ax[1].get_ylim(), color='k')\n",
    "\n",
    "ax[0].vlines([MUON_mean + MUON_uncer, MUON_mean - MUON_uncer], *ax[0].get_ylim(), color='k', linestyle='--')\n",
    "ax[1].vlines([PION_mean + PION_uncer, PION_mean - PION_uncer], *ax[1].get_ylim(), color='k', linestyle='--')\n",
    "\n",
    "fig.suptitle('Maximise likelihood fit')\n",
    "plt.tight_layout()"
   ]
  },
  {
   "cell_type": "code",
   "execution_count": null,
   "id": "f696a7a4",
   "metadata": {},
   "outputs": [],
   "source": []
  }
 ],
 "metadata": {
  "kernelspec": {
   "display_name": ".venv",
   "language": "python",
   "name": "python3"
  },
  "language_info": {
   "codemirror_mode": {
    "name": "ipython",
    "version": 3
   },
   "file_extension": ".py",
   "mimetype": "text/x-python",
   "name": "python",
   "nbconvert_exporter": "python",
   "pygments_lexer": "ipython3",
   "version": "3.10.16"
  }
 },
 "nbformat": 4,
 "nbformat_minor": 5
}
