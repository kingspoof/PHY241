{
 "cells": [
  {
   "cell_type": "code",
   "execution_count": 19,
   "metadata": {},
   "outputs": [],
   "source": [
    "# generic libraries\n",
    "import matplotlib.pyplot as plt\n",
    "import numpy as np\n",
    "from scipy.optimize import minimize\n",
    "\n",
    "# project specific custom libraries\n",
    "from config import *\n",
    "from simulation import simulate_decay_times\n",
    "from analysis import binned_maximum_likelihood"
   ]
  },
  {
   "cell_type": "code",
   "execution_count": 20,
   "metadata": {},
   "outputs": [],
   "source": [
    "#set a seed for numpys random number generator\n",
    "np.random.seed(42)"
   ]
  },
  {
   "cell_type": "code",
   "execution_count": 21,
   "metadata": {},
   "outputs": [
    {
     "name": "stdout",
     "output_type": "stream",
     "text": [
      "  message: CONVERGENCE: NORM_OF_PROJECTED_GRADIENT_<=_PGTOL\n",
      "  success: True\n",
      "   status: 0\n",
      "      fun: -57958.72177412387\n",
      "        x: [ 5.498e-08  6.066e-06]\n",
      "      nit: 1\n",
      "      jac: [ 2.671e+08  8.022e+08]\n",
      "     nfev: 39\n",
      "     njev: 13\n",
      " hess_inv: <2x2 LbfgsInvHessProduct with dtype=float64>\n"
     ]
    }
   ],
   "source": [
    "# Exercise part 3 Simple simulation\n",
    "\n",
    "# Part 0, generate the plot from the N function\n",
    "t_bounds = [0, 2e-5]\n",
    "n = 10000\n",
    "\n",
    "t_space = np.linspace(t_bounds[0], t_bounds[1], n)\n",
    "t_computed_values = N(t_space, n)\n",
    "\n",
    "# Part 1, simulate n decay times and create a histogram plot\n",
    "simulated_decay_points = simulate_decay_times(n, t_bounds[1])\n",
    "\n",
    "# create the histogram\n",
    "counts, bins = np.histogram(simulated_decay_points[:, 0] , bins=25)\n",
    "plt.hist(bins[:-1], bins, weights=counts, color='lightgray', edgecolor='black')\n",
    "plt.xlabel('Time [s]')\n",
    "plt.ylabel('Counts')\n",
    "plt.title(f'Histogram of {n} simulated decay times')\n",
    "plt.savefig('../Documentation/images/simulated_decay_histogram.png', dpi=750)\n",
    "plt.close()\n",
    "\n",
    "\n",
    "\n",
    "# perform a binned maximum likelihood fit to the histogram to extract estimates \n",
    "# for the two mean lifetymes, as well as uncertainties on your two esimates \n",
    "# compare the results to the values that you put into the simulation\n",
    "\n",
    "def binned_maximum_likelihood_wrapper(params, counts, bins):\n",
    "    return 1 * binned_maximum_likelihood(params, counts, bins)\n",
    "\n",
    "bounds = [(1e-15, None), (1e-15, None)]\n",
    "x0 = [1e-8, 1e-6]\n",
    "results = minimize(binned_maximum_likelihood_wrapper, x0, args=(counts, bins), bounds=bounds)\n",
    "print(results)\n",
    "\n",
    "\n"
   ]
  }
 ],
 "metadata": {
  "kernelspec": {
   "display_name": "Python 3",
   "language": "python",
   "name": "python3"
  },
  "language_info": {
   "codemirror_mode": {
    "name": "ipython",
    "version": 3
   },
   "file_extension": ".py",
   "mimetype": "text/x-python",
   "name": "python",
   "nbconvert_exporter": "python",
   "pygments_lexer": "ipython3",
   "version": "3.11.10"
  }
 },
 "nbformat": 4,
 "nbformat_minor": 2
}
