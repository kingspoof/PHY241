{
 "cells": [
  {
   "cell_type": "code",
   "execution_count": 1,
   "metadata": {},
   "outputs": [],
   "source": [
    "# generic libraries\n",
    "import matplotlib.pyplot as plt\n",
    "import numpy as np\n",
    "from scipy.optimize import minimize\n",
    "\n",
    "# project specific custom libraries\n",
    "from config import *\n",
    "from simulation import simulate_decay_times\n",
    "from analysis import binned_maximum_likelihood_fit"
   ]
  },
  {
   "cell_type": "code",
   "execution_count": 2,
   "metadata": {},
   "outputs": [],
   "source": [
    "#set a seed for numpys random number generator\n",
    "np.random.seed(42)"
   ]
  },
  {
   "cell_type": "code",
   "execution_count": null,
   "metadata": {},
   "outputs": [
    {
     "name": "stdout",
     "output_type": "stream",
     "text": [
      "1991379.1911061353\n",
      "  message: CONVERGENCE: NORM_OF_PROJECTED_GRADIENT_<=_PGTOL\n",
      "  success: True\n",
      "   status: 0\n",
      "      fun: 1997028.4325915426\n",
      "        x: [ 1.000e-07  1.000e-05]\n",
      "      nit: 0\n",
      "      jac: [ 1.551e+09  4.873e+08]\n",
      "     nfev: 3\n",
      "     njev: 1\n",
      " hess_inv: <2x2 LbfgsInvHessProduct with dtype=float64>\n"
     ]
    }
   ],
   "source": [
    "# Exercise part 3 Simple simulation\n",
    "\n",
    "# Part 0, generate the plot from the N function\n",
    "t_bounds = [0, 2e-5]\n",
    "n = 10000\n",
    "\n",
    "t_space = np.linspace(t_bounds[0], t_bounds[1], n)\n",
    "t_computed_values = N(t_space, n)\n",
    "\n",
    "# Part 1, simulate n decay times and create a histogram plot\n",
    "simulated_decay_points = simulate_decay_times(n, t_bounds[1])\n",
    "\n",
    "# create the histogram\n",
    "counts, bins = np.histogram(simulated_decay_points[:, 0] , bins=35)\n",
    "plt.hist(bins[:-1], bins, weights=counts, color='lightgray', edgecolor='black')\n",
    "plt.xlabel('Time [s]')\n",
    "plt.ylabel('Counts')\n",
    "plt.title(f'Histogram of {n} simulated decay times')\n",
    "plt.savefig('../Documentation/images/simulated_decay_histogram.png', dpi=750)\n",
    "plt.close()\n",
    "\n",
    "\n",
    "\n",
    "results = binned_maximum_likelihood_fit(counts, bins)\n",
    "print(results)\n"
   ]
  }
 ],
 "metadata": {
  "kernelspec": {
   "display_name": "Python 3",
   "language": "python",
   "name": "python3"
  },
  "language_info": {
   "codemirror_mode": {
    "name": "ipython",
    "version": 3
   },
   "file_extension": ".py",
   "mimetype": "text/x-python",
   "name": "python",
   "nbconvert_exporter": "python",
   "pygments_lexer": "ipython3",
   "version": "3.11.10"
  }
 },
 "nbformat": 4,
 "nbformat_minor": 2
}
