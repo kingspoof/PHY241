{
 "cells": [
  {
   "cell_type": "code",
   "execution_count": 1,
   "metadata": {},
   "outputs": [],
   "source": [
    "# generic libraries\n",
    "import matplotlib.pyplot as plt\n",
    "import numpy as np\n",
    "from scipy.optimize import minimize\n",
    "\n",
    "# project specific custom libraries\n",
    "from config import *\n",
    "from simulation import simulate_decay_times\n",
    "from analysis import binned_maximum_likelihood_fit"
   ]
  },
  {
   "cell_type": "code",
   "execution_count": 2,
   "metadata": {},
   "outputs": [],
   "source": [
    "#set a seed for numpys random number generator\n",
    "np.random.seed(42)"
   ]
  },
  {
   "cell_type": "code",
   "execution_count": null,
   "metadata": {},
   "outputs": [
    {
     "name": "stderr",
     "output_type": "stream",
     "text": [
      "/opt/homebrew/lib/python3.11/site-packages/scipy/optimize/_hessian_update_strategy.py:182: UserWarning: delta_grad == 0.0. Check if the approximated function is linear. If the function is linear better results can be obtained by defining the Hessian as zero instead of using quasi-Newton approximations.\n",
      "  warn('delta_grad == 0.0. Check if the approximated '\n"
     ]
    },
    {
     "name": "stdout",
     "output_type": "stream",
     "text": [
      "1.7603709619112948e-08\n"
     ]
    },
    {
     "ename": "TypeError",
     "evalue": "cannot unpack non-iterable NoneType object",
     "output_type": "error",
     "traceback": [
      "\u001b[0;31m---------------------------------------------------------------------------\u001b[0m",
      "\u001b[0;31mTypeError\u001b[0m                                 Traceback (most recent call last)",
      "Cell \u001b[0;32mIn[3], line 22\u001b[0m\n\u001b[1;32m     19\u001b[0m plt\u001b[38;5;241m.\u001b[39msavefig(\u001b[38;5;124m'\u001b[39m\u001b[38;5;124m../Documentation/images/simulated_decay_histogram.png\u001b[39m\u001b[38;5;124m'\u001b[39m, dpi\u001b[38;5;241m=\u001b[39m\u001b[38;5;241m750\u001b[39m)\n\u001b[1;32m     20\u001b[0m plt\u001b[38;5;241m.\u001b[39mclose()\n\u001b[0;32m---> 22\u001b[0m results \u001b[38;5;241m=\u001b[39m \u001b[43mbinned_maximum_likelihood_fit\u001b[49m\u001b[43m(\u001b[49m\u001b[43mcounts\u001b[49m\u001b[43m,\u001b[49m\u001b[43m \u001b[49m\u001b[43mbins\u001b[49m\u001b[43m)\u001b[49m\n\u001b[1;32m     23\u001b[0m \u001b[38;5;28mprint\u001b[39m(results)\n",
      "File \u001b[0;32m~/Documents/Lucien/002-Bildung/2023-00-00-Universität/Semester 4 FS2024/PHY 241 Data Analysis II/Project/Code/analysis.py:60\u001b[0m, in \u001b[0;36mbinned_maximum_likelihood_fit\u001b[0;34m(counts, bin_edges, initial_guess)\u001b[0m\n\u001b[1;32m     50\u001b[0m min_params, min_nll, _ \u001b[38;5;241m=\u001b[39m markov_chain_monte_carlo(\n\u001b[1;32m     51\u001b[0m     binned_maximum_likelihood,\n\u001b[1;32m     52\u001b[0m     local_result\u001b[38;5;241m.\u001b[39mx,\n\u001b[0;32m   (...)\u001b[0m\n\u001b[1;32m     56\u001b[0m     step_multiplier\u001b[38;5;241m=\u001b[39m\u001b[38;5;241m1e-10\u001b[39m\n\u001b[1;32m     57\u001b[0m )\n\u001b[1;32m     59\u001b[0m muon_estimate, pion_estimate \u001b[38;5;241m=\u001b[39m min_params\n\u001b[0;32m---> 60\u001b[0m muon_uncertainty, pion_uncertainty \u001b[38;5;241m=\u001b[39m get_uncertainties(\n\u001b[1;32m     61\u001b[0m     min_params,\n\u001b[1;32m     62\u001b[0m     counts,\n\u001b[1;32m     63\u001b[0m     bin_centers,\n\u001b[1;32m     64\u001b[0m     bin_width,\n\u001b[1;32m     65\u001b[0m     n,\n\u001b[1;32m     66\u001b[0m     min_nll\n\u001b[1;32m     67\u001b[0m )\n\u001b[1;32m     69\u001b[0m \u001b[38;5;28;01mreturn\u001b[39;00m min_params\n",
      "\u001b[0;31mTypeError\u001b[0m: cannot unpack non-iterable NoneType object"
     ]
    }
   ],
   "source": [
    "# Exercise part 3 Simple simulation\n",
    "\n",
    "# Part 0, generate the plot from the N function\n",
    "t_bounds = [0, 2e-5]\n",
    "n = 10000\n",
    "\n",
    "t_space = np.linspace(t_bounds[0], t_bounds[1], n)\n",
    "t_computed_values = N(t_space, n)\n",
    "\n",
    "# Part 1, simulate n decay times and create a histogram plot\n",
    "simulated_decay_points = simulate_decay_times(n, t_bounds[1])\n",
    "\n",
    "# create the histogram\n",
    "counts, bins = np.histogram(simulated_decay_points[:, 0] , bins=35)\n",
    "plt.hist(bins[:-1], bins, weights=counts, color='lightgray', edgecolor='black')\n",
    "plt.xlabel('Time [s]')\n",
    "plt.ylabel('Counts')\n",
    "plt.title(f'Histogram of {n} simulated decay times')\n",
    "plt.savefig('../Documentation/images/simulated_decay_histogram.png', dpi=750)\n",
    "plt.close()\n",
    "\n",
    "muon_estimate, pion_estimate, muon_uncertainty, pion_uncertainty = binned_maximum_likelihood_fit(counts, bins)\n",
    "print(\"Muon estimate: \", muon_estimate)\n",
    "print(\"Muon uncertainty: \", muon_uncertainty)\n",
    "print(\"Pion estimate: \", pion_estimate) \n",
    "print(\"Pion uncertainty: \", pion_uncertainty)\n"
   ]
  }
 ],
 "metadata": {
  "kernelspec": {
   "display_name": "Python 3",
   "language": "python",
   "name": "python3"
  },
  "language_info": {
   "codemirror_mode": {
    "name": "ipython",
    "version": 3
   },
   "file_extension": ".py",
   "mimetype": "text/x-python",
   "name": "python",
   "nbconvert_exporter": "python",
   "pygments_lexer": "ipython3",
   "version": "3.11.10"
  }
 },
 "nbformat": 4,
 "nbformat_minor": 2
}
